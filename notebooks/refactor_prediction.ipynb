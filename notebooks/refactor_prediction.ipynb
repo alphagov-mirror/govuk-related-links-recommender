{
 "cells": [
  {
   "cell_type": "code",
   "execution_count": 11,
   "metadata": {},
   "outputs": [],
   "source": [
    "import pandas as pd\n",
    "import numpy as np\n",
    "import os\n",
    "import json \n",
    "from gensim.models import Word2Vec\n",
    "import sys\n",
    "sys.path.append(os.path.join(os.path.dirname(os.getcwd()), \"src\"))\n",
    "from utils.miscellaneous import read_query, load_pickled_content_id_list"
   ]
  },
  {
   "cell_type": "code",
   "execution_count": 17,
   "metadata": {},
   "outputs": [
    {
     "data": {
      "text/plain": [
       "'/Users/felisialoukou/Documents/govuk-related-links-recommender/data'"
      ]
     },
     "execution_count": 17,
     "metadata": {},
     "output_type": "execute_result"
    }
   ],
   "source": [
    "DATA_DIR = os.path.join(os.path.dirname(os.getcwd()), \"data\")\n",
    "MODELS_DIR = os.path.join(os.path.dirname(os.getcwd()), \"models\")\n",
    "DATA_DIR"
   ]
  },
  {
   "cell_type": "code",
   "execution_count": 13,
   "metadata": {},
   "outputs": [],
   "source": [
    "eligible_source_content_ids = load_pickled_content_id_list(os.path.join(DATA_DIR, \"tmp\",\n",
    "                                                                            \"eligible_source_content_ids.pkl\"))\n",
    "\n",
    "eligible_target_content_ids = load_pickled_content_id_list(os.path.join(DATA_DIR, \"tmp\",\n",
    "                                                                               \"eligible_target_content_ids.pkl\"))"
   ]
  },
  {
   "cell_type": "code",
   "execution_count": 15,
   "metadata": {},
   "outputs": [
    {
     "data": {
      "text/plain": [
       "(['22a305c8-2bbd-4caa-8a46-2df5d51089e1',\n",
       "  'da78bdae-887e-4352-ab46-c230833f18ce',\n",
       "  '7b7d2e12-1e3c-4733-90c0-920ae4b8ec6f',\n",
       "  '1b921ea8-0fa6-4429-a0fe-428b17f10a5a',\n",
       "  'd0cadb7b-2bbc-4e7a-8913-2db7faa3c30d',\n",
       "  'fa869c33-4d32-4977-9056-97b544811367',\n",
       "  '9638d234-a20e-4042-998b-0ac82da2aee0',\n",
       "  '887311be-799a-45f8-805f-9bdafb57cb23',\n",
       "  '1d7ceda0-1727-4ef6-8613-aadbf4a4ca2c',\n",
       "  '7da5e3f4-2da0-46fb-9b7f-dcb253b43e88'],\n",
       " ['ddda6dc8-e9de-49db-bbd1-97e3d0bc1e6f',\n",
       "  'db63bcc6-b847-4448-9738-27ecf5052ada'])"
      ]
     },
     "execution_count": 15,
     "metadata": {},
     "output_type": "execute_result"
    }
   ],
   "source": [
    "eligible_source_content_ids[0:10], eligible_target_content_ids[0:2]"
   ]
  },
  {
   "cell_type": "code",
   "execution_count": 56,
   "metadata": {},
   "outputs": [],
   "source": [
    "def _get_related_links_for_df(df, model, eligible_target_content_ids):\n",
    "    \"\"\"\n",
    "    most probable (5 max) and eligible target_content_ids are extracted for each source_content_id\n",
    "    in the input df's column called 'content_id'\n",
    "    :param df: pandas DataFrame with a column named 'content_id'\n",
    "    :param model: node2vec model where mode.wv.vocab.keys() are content_ids\n",
    "    :param eligible_target_content_ids: list of eligible target_content_ids\n",
    "    :return: pandas Series where each element is a pandas DataFrame\n",
    "    \"\"\"\n",
    "    return df['source_content_id'].apply(\n",
    "        get_related_links_for_a_source_content_id,\n",
    "        model=model,\n",
    "        eligible_target_content_ids=eligible_target_content_ids,\n",
    "        output_type=\"df\")\n",
    "\n",
    "\n",
    "\n",
    "def get_related_links_for_a_source_content_id(source_content_id, model, eligible_target_content_ids,\n",
    "                                              probability_threshold=0.46, output_type=\"list\"):\n",
    "    \n",
    "    potential_related_links = pd.DataFrame(model.wv.most_similar(source_content_id, topn=1000))\n",
    "    potential_related_links.columns = ['target_content_id', 'probability']\n",
    "    potential_related_links.sort_values('probability', inplace=True, ascending=False)\n",
    "    potential_related_links = only_include_eligible_target_content_ids(potential_related_links,\n",
    "                                                                       eligible_target_content_ids,\n",
    "                                                                    )\n",
    "    potential_related_links['source_content_id'] = source_content_id\n",
    "\n",
    "    if output_type == \"df\":\n",
    "        output = potential_related_links[potential_related_links['probability'] > probability_threshold].head(5)\n",
    "    if output_type == \"list\":\n",
    "        output = potential_related_links[potential_related_links['probability'] > probability_threshold].head(5)[\n",
    "            'target_content_id'].values.tolist()\n",
    "\n",
    "    return output\n",
    "\n",
    "def only_include_eligible_target_content_ids(df_target_prop, eligible_target_links):\n",
    "    \"\"\"\n",
    "    Selects the rows of a pandas DataFrame which contain eligible target_content_ids. Drops rows where target_content_id\n",
    "    is not in the list of eligible target content_ids\n",
    "    :param df_target_prop: pandas DataFrame which includes column named 'target_content_id'\n",
    "    :param eligible_target_links: list of eligible content_ids to identify rows where the target_content_id should be included.\n",
    "    :return: pandas DataFrame of eligible target_content_ids\n",
    "    \"\"\"\n",
    "    return df_target_prop.query('target_content_id in @eligible_target_links')"
   ]
  },
  {
   "cell_type": "code",
   "execution_count": 57,
   "metadata": {},
   "outputs": [],
   "source": [
    "df = pd.DataFrame(['5fdd5f20-7631-11e4-a3cb-005056011aef'], columns=['source_content_id'])"
   ]
  },
  {
   "cell_type": "code",
   "execution_count": 58,
   "metadata": {},
   "outputs": [],
   "source": [
    "trained_model = Word2Vec.load(os.path.join(MODELS_DIR, \"n2v.model\"))"
   ]
  },
  {
   "cell_type": "code",
   "execution_count": 62,
   "metadata": {},
   "outputs": [
    {
     "data": {
      "text/plain": [
       "pandas.core.frame.DataFrame"
      ]
     },
     "execution_count": 62,
     "metadata": {},
     "output_type": "execute_result"
    }
   ],
   "source": [
    "df1 = _get_related_links_for_df(df, trained_model, eligible_target_content_ids)\n",
    "type(df1.values[0])"
   ]
  },
  {
   "cell_type": "code",
   "execution_count": 24,
   "metadata": {},
   "outputs": [
    {
     "data": {
      "text/plain": [
       "'da78bdae-887e-4352-ab46-c230833f18ce'"
      ]
     },
     "execution_count": 24,
     "metadata": {},
     "output_type": "execute_result"
    }
   ],
   "source": [
    "source = eligible_source_content_ids[1]\n",
    "source"
   ]
  },
  {
   "cell_type": "code",
   "execution_count": 36,
   "metadata": {},
   "outputs": [
    {
     "data": {
      "text/plain": [
       "['5b9a09bb-edc4-4645-8a5b-e0feb1bab892',\n",
       " '5e0ec66e-7631-11e4-a3cb-005056011aef',\n",
       " 'd9f3ece7-028d-49eb-b3de-5cc746a37092',\n",
       " 'efbc9e97-2bad-4dfe-9f45-1118ec2c69af',\n",
       " 'c8fff813-5088-45b9-b737-ef70578d4701']"
      ]
     },
     "execution_count": 36,
     "metadata": {},
     "output_type": "execute_result"
    }
   ],
   "source": [
    "list(trained_model.wv.vocab)[0:5]"
   ]
  },
  {
   "cell_type": "code",
   "execution_count": null,
   "metadata": {},
   "outputs": [],
   "source": [
    "import operator"
   ]
  },
  {
   "cell_type": "code",
   "execution_count": 67,
   "metadata": {},
   "outputs": [],
   "source": [
    "with open(os.path.join(DATA_DIR, 'tmp', 'content_id_base_path_mapping.json'), 'r') as f:\n",
    "    base_cid = json.load(f)"
   ]
  },
  {
   "cell_type": "code",
   "execution_count": 78,
   "metadata": {},
   "outputs": [
    {
     "name": "stdout",
     "output_type": "stream",
     "text": [
      "5e0ec66e-7631-11e4-a3cb-005056011aef\n",
      "these are the result {'f20fbdbd-dcc1-4f00-8cf4-93d8a890dae3': 0.4649709463119507}\n",
      "5b9a09bb-edc4-4645-8a5b-e0feb1bab892\n",
      "these are the result {'be6e4ef9-2854-443a-94ef-b31a62dcece8': 0.5146117210388184}\n"
     ]
    }
   ],
   "source": [
    "probability_threshold=0.46\n",
    "dict_list = {}\n",
    "for cid in ['5e0ec66e-7631-11e4-a3cb-005056011aef', '5b9a09bb-edc4-4645-8a5b-e0feb1bab892']:\n",
    "    results = {k:v for k,v in trained_model.\\\n",
    "                           wv.most_similar(cid, topn=1000)\\\n",
    "                           if k in eligible_target_content_ids and v >= probability_threshold}\n",
    "    dict_list[cid] = sorted(results.items(), key=operator.itemgetter(1), reverse=True)[0:5]\n",
    "   "
   ]
  },
  {
   "cell_type": "code",
   "execution_count": 77,
   "metadata": {
    "scrolled": false
   },
   "outputs": [
    {
     "data": {
      "text/html": [
       "<div>\n",
       "<style scoped>\n",
       "    .dataframe tbody tr th:only-of-type {\n",
       "        vertical-align: middle;\n",
       "    }\n",
       "\n",
       "    .dataframe tbody tr th {\n",
       "        vertical-align: top;\n",
       "    }\n",
       "\n",
       "    .dataframe thead th {\n",
       "        text-align: right;\n",
       "    }\n",
       "</style>\n",
       "<table border=\"1\" class=\"dataframe\">\n",
       "  <thead>\n",
       "    <tr style=\"text-align: right;\">\n",
       "      <th></th>\n",
       "      <th>probability</th>\n",
       "      <th>source_bp</th>\n",
       "      <th>source_id</th>\n",
       "      <th>target_bp</th>\n",
       "      <th>target_id</th>\n",
       "    </tr>\n",
       "  </thead>\n",
       "  <tbody>\n",
       "    <tr>\n",
       "      <th>0</th>\n",
       "      <td>0.464971</td>\n",
       "      <td>/government/publications/national-film-and-tel...</td>\n",
       "      <td>5e0ec66e-7631-11e4-a3cb-005056011aef</td>\n",
       "      <td>/government/publications/gcse-9-to-1-subject-l...</td>\n",
       "      <td>f20fbdbd-dcc1-4f00-8cf4-93d8a890dae3</td>\n",
       "    </tr>\n",
       "    <tr>\n",
       "      <th>1</th>\n",
       "      <td>0.514612</td>\n",
       "      <td>/guidance/forensic-toxicology-tests</td>\n",
       "      <td>5b9a09bb-edc4-4645-8a5b-e0feb1bab892</td>\n",
       "      <td>/government/publications/hmt-workforce-managem...</td>\n",
       "      <td>be6e4ef9-2854-443a-94ef-b31a62dcece8</td>\n",
       "    </tr>\n",
       "  </tbody>\n",
       "</table>\n",
       "</div>"
      ],
      "text/plain": [
       "   probability                                          source_bp  \\\n",
       "0     0.464971  /government/publications/national-film-and-tel...   \n",
       "1     0.514612                /guidance/forensic-toxicology-tests   \n",
       "\n",
       "                              source_id  \\\n",
       "0  5e0ec66e-7631-11e4-a3cb-005056011aef   \n",
       "1  5b9a09bb-edc4-4645-8a5b-e0feb1bab892   \n",
       "\n",
       "                                           target_bp  \\\n",
       "0  /government/publications/gcse-9-to-1-subject-l...   \n",
       "1  /government/publications/hmt-workforce-managem...   \n",
       "\n",
       "                              target_id  \n",
       "0  f20fbdbd-dcc1-4f00-8cf4-93d8a890dae3  \n",
       "1  be6e4ef9-2854-443a-94ef-b31a62dcece8  "
      ]
     },
     "execution_count": 77,
     "metadata": {},
     "output_type": "execute_result"
    }
   ],
   "source": [
    "row_list = [{'source_id':key,\n",
    "                         'source_bp':base_cid[key],\n",
    "                         'target_id':t,\n",
    "                         'target_bp':base_cid[t],\n",
    "                         'probability':p} for key, values in dict_list.items() for t,p in values]\n",
    "df_results = pd.DataFrame(row_list)\n",
    "df_results\n",
    "# pd.DataFrame(sorted(potential_related_links.items(), key=operator.itemgetter(1), reverse=True)[0:5])"
   ]
  },
  {
   "cell_type": "code",
   "execution_count": 80,
   "metadata": {},
   "outputs": [
    {
     "data": {
      "text/plain": [
       "('f20fbdbd-dcc1-4f00-8cf4-93d8a890dae3', 0.4649709463119507)"
      ]
     },
     "execution_count": 80,
     "metadata": {},
     "output_type": "execute_result"
    }
   ],
   "source": [
    "dict_list['5e0ec66e-7631-11e4-a3cb-005056011aef']"
   ]
  },
  {
   "cell_type": "code",
   "execution_count": 82,
   "metadata": {},
   "outputs": [
    {
     "data": {
      "text/plain": [
       "{'5e0ec66e-7631-11e4-a3cb-005056011aef': ['f20fbdbd-dcc1-4f00-8cf4-93d8a890dae3'],\n",
       " '5b9a09bb-edc4-4645-8a5b-e0feb1bab892': ['be6e4ef9-2854-443a-94ef-b31a62dcece8']}"
      ]
     },
     "execution_count": 82,
     "metadata": {},
     "output_type": "execute_result"
    }
   ],
   "source": [
    "json = {k:[vs for vs,_ in v] for k,v in dict_list.items()}\n",
    "json"
   ]
  },
  {
   "cell_type": "code",
   "execution_count": null,
   "metadata": {},
   "outputs": [],
   "source": []
  }
 ],
 "metadata": {
  "kernelspec": {
   "display_name": "Python 3",
   "language": "python",
   "name": "python3"
  },
  "language_info": {
   "codemirror_mode": {
    "name": "ipython",
    "version": 3
   },
   "file_extension": ".py",
   "mimetype": "text/x-python",
   "name": "python",
   "nbconvert_exporter": "python",
   "pygments_lexer": "ipython3",
   "version": "3.7.4"
  }
 },
 "nbformat": 4,
 "nbformat_minor": 2
}
